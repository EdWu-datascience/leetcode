{
  "nbformat": 4,
  "nbformat_minor": 0,
  "metadata": {
    "colab": {
      "name": "to_delete.ipynb",
      "provenance": []
    },
    "kernelspec": {
      "name": "python3",
      "display_name": "Python 3"
    },
    "language_info": {
      "name": "python"
    }
  },
  "cells": [
    {
      "cell_type": "code",
      "metadata": {
        "id": "vvKoXG1NqeJH"
      },
      "source": [
        "#Determine if a 9 x 9 Sudoku board is valid. Only the filled cells need to be validated according to the following rules:\n",
        "#Each row must contain the digits 1-9 without repetition.\n",
        "#Each column must contain the digits 1-9 without repetition.\n",
        "#Each of the nine 3 x 3 sub-boxes of the grid must contain the digits 1-9 without repetition.\n",
        "#Note:\n",
        "#A Sudoku board (partially filled) could be valid but is not necessarily solvable.\n",
        "#Only the filled cells need to be validated according to the mentioned rules.\n",
        "class Solution:\n",
        "    def isValidSudoku(self, board: List[List[str]]) -> bool:\n",
        "        re = [1]\n",
        "        for L in board:  \n",
        "            L_num = [i for i in L if i in['0','1','2','3','4','5','6','7','8','9']]\n",
        "           \n",
        "            L_set = set(L_num)\n",
        "            if len(L_set) != len(L_num):\n",
        "                re.append(0)\n",
        "        columns = []\n",
        "        column = []\n",
        "        i = 0\n",
        "        while i <= len(board)-1: \n",
        "            for L in board:\n",
        "                column.append(L[i])\n",
        "            columns.append(column)\n",
        "            column = []\n",
        "            i += 1\n",
        "        for L in columns:\n",
        "            L_num = [i for i in L if i in['0','1','2','3','4','5','6','7','8','9']]\n",
        "            L_set = set(L_num)\n",
        "            if len(L_set) != len(L_num):\n",
        "                re.append(0)\n",
        "        i = 0\n",
        "        count = 1\n",
        "        s1 = [] \n",
        "        s2 = []\n",
        "        s3 = []\n",
        "        while count <= 3:\n",
        "            for L in board[i:i+3]:\n",
        "                L1 = L[0:3]\n",
        "                L2 = L[3:6]\n",
        "                L3 = L[6:]\n",
        "                s1.append([l for l in L1 if l in ['0','1','2','3','4','5','6','7','8','9']])\n",
        "                s2.append([l for l in L2 if l in ['0','1','2','3','4','5','6','7','8','9']])\n",
        "                s3.append([l for l in L3 if l in ['0','1','2','3','4','5','6','7','8','9']])\n",
        "            s1 = [i for item in s1 for i in item]\n",
        "            s2 = [i for item in s2 for i in item]\n",
        "            s3 = [i for item in s3 for i in item]\n",
        "            if len(set(s1)) != len(s1) or len(set(s2)) != len(s2) or len(set(s3)) != len(s3):\n",
        "                re.append(0)\n",
        "            i = i + 3 \n",
        "            count += 1\n",
        "            s1 = []\n",
        "            s2 = []\n",
        "            s3 = []\n",
        "        if 0 in re:\n",
        "            return False\n",
        "        else:\n",
        "            return True"
      ],
      "execution_count": null,
      "outputs": []
    }
  ]
}