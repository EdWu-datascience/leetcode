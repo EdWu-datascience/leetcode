{
  "nbformat": 4,
  "nbformat_minor": 0,
  "metadata": {
    "colab": {
      "name": "498_prints out the diagonals of a matrix.ipynb",
      "provenance": [],
      "collapsed_sections": [],
      "authorship_tag": "ABX9TyMQ8+jis3+p9xw4nR3Kcuqh",
      "include_colab_link": true
    },
    "kernelspec": {
      "name": "python3",
      "display_name": "Python 3"
    },
    "language_info": {
      "name": "python"
    }
  },
  "cells": [
    {
      "cell_type": "markdown",
      "metadata": {
        "id": "view-in-github",
        "colab_type": "text"
      },
      "source": [
        "<a href=\"https://colab.research.google.com/github/EdWu-datascience/leetcode/blob/main/498_prints_out_the_diagonals_of_a_matrix.ipynb\" target=\"_parent\"><img src=\"https://colab.research.google.com/assets/colab-badge.svg\" alt=\"Open In Colab\"/></a>"
      ]
    },
    {
      "cell_type": "code",
      "execution_count": 40,
      "metadata": {
        "colab": {
          "base_uri": "https://localhost:8080/"
        },
        "id": "ctAODo6NkPku",
        "outputId": "7e03169e-967a-44fa-eacb-d3ac87faf587"
      },
      "outputs": [
        {
          "output_type": "stream",
          "name": "stdout",
          "text": [
            "2\n",
            "[9, 3, 8, 2, 6, 5, 1, 5, 6]\n"
          ]
        }
      ],
      "source": [
        "class Solution(object):\n",
        "    def findDiagonalOrder(self, mat):\n",
        "        \"\"\"\n",
        "        :type mat: List[List[int]]\n",
        "        :rtype: List[int]\n",
        "        \"\"\"\n",
        "        if len(mat) <= 1:\n",
        "            return mat[0]\n",
        "        re = []\n",
        "        x = 0\n",
        "        y = 0\n",
        "        for i in range(len(mat)+len(mat[0])-1):\n",
        "            # x + y = i\n",
        "            #each inner for loop, x-1, y+1\n",
        "            #loop end condition:\n",
        "            #when x<0 or y > len(mat[0])-1\n",
        "            #detemine the initial value for x and y:\n",
        "            #if i > len(mat) - 1 then x = len(mat). then y = i - x\n",
        "            #\n",
        "            if i > len(mat) - 1:\n",
        "                x = len(mat) - 1\n",
        "                y = i - x\n",
        "            else:\n",
        "                x = i \n",
        "                y = 0 \n",
        "            temp = []\n",
        "            while x >= 0 and y <= len(mat[0]) - 1:\n",
        "                value = mat[x][y]\n",
        "                temp.append(value)\n",
        "                x -= 1\n",
        "                y += 1\n",
        "            if (i+1) % 2 == 0:\n",
        "                temp = temp[::-1] \n",
        "            re = re+temp\n",
        "        print(re) \n",
        "        return re "
      ]
    }
  ]
}