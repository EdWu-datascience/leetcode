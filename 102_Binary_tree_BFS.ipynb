{
  "nbformat": 4,
  "nbformat_minor": 0,
  "metadata": {
    "colab": {
      "name": "102_Binary tree_BFS.ipynb",
      "provenance": [],
      "collapsed_sections": [],
      "authorship_tag": "ABX9TyM3Ro3OXX4OoI/dlp7BWyQe",
      "include_colab_link": true
    },
    "kernelspec": {
      "name": "python3",
      "display_name": "Python 3"
    },
    "language_info": {
      "name": "python"
    }
  },
  "cells": [
    {
      "cell_type": "markdown",
      "metadata": {
        "id": "view-in-github",
        "colab_type": "text"
      },
      "source": [
        "<a href=\"https://colab.research.google.com/github/EdWu-datascience/leetcode/blob/main/102_Binary_tree_BFS.ipynb\" target=\"_parent\"><img src=\"https://colab.research.google.com/assets/colab-badge.svg\" alt=\"Open In Colab\"/></a>"
      ]
    },
    {
      "cell_type": "code",
      "execution_count": 1,
      "metadata": {
        "colab": {
          "base_uri": "https://localhost:8080/"
        },
        "id": "ctAODo6NkPku",
        "outputId": "7adc9c90-ecb7-4809-9179-cb8530a6a073"
      },
      "outputs": [
        {
          "output_type": "execute_result",
          "data": {
            "text/plain": [
              "1"
            ]
          },
          "metadata": {},
          "execution_count": 1
        }
      ],
      "source": [
        "# Definition for a binary tree node.\n",
        "# class TreeNode(object):\n",
        "#     def __init__(self, val=0, left=None, right=None):\n",
        "#         self.val = val\n",
        "#         self.left = left\n",
        "#         self.right = right\n",
        "class Solution(object):\n",
        "    def levelOrder(self, root):\n",
        "        \"\"\"\n",
        "        :type root: TreeNode\n",
        "        :rtype: List[List[int]]\n",
        "        \"\"\"\n",
        "        # we'll use BFS(breadth-first search) for this question. To do that, we'll utilize queue\n",
        "        # queue is first in first out\n",
        "        # we get root first, if its left/right node is not empty, we put it into queue\n",
        "        \n",
        "        if root is None:\n",
        "            return [] \n",
        "        re = []\n",
        "        queue = [root]\n",
        "        while queue:\n",
        "            size = len(queue)# in the following for loop, in order to just loop one \n",
        "            # layer in each while loop, we use the size of current layer to set the \n",
        "            # times that will loop in the for loop \n",
        "            temp = []\n",
        "            for value in range(size):\n",
        "                node = queue.pop(0)# First in first out\n",
        "                if node is not None:\n",
        "                    temp.append(node.val)\n",
        "                if node.left is not None:\n",
        "                    queue.append(node.left)\n",
        "                if node.right is not None:\n",
        "                    queue.append(node.right)\n",
        "            re.append(temp)\n",
        "        return re"
      ]
    }
  ]
}