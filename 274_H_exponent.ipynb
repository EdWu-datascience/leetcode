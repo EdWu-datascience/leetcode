{
  "nbformat": 4,
  "nbformat_minor": 0,
  "metadata": {
    "colab": {
      "name": "274_H exponent.ipynb",
      "provenance": [],
      "collapsed_sections": [],
      "authorship_tag": "ABX9TyNS+whqPMf+kArHrJ4awL//",
      "include_colab_link": true
    },
    "kernelspec": {
      "name": "python3",
      "display_name": "Python 3"
    },
    "language_info": {
      "name": "python"
    }
  },
  "cells": [
    {
      "cell_type": "markdown",
      "metadata": {
        "id": "view-in-github",
        "colab_type": "text"
      },
      "source": [
        "<a href=\"https://colab.research.google.com/github/EdWu-datascience/leetcode/blob/main/274_H_exponent.ipynb\" target=\"_parent\"><img src=\"https://colab.research.google.com/assets/colab-badge.svg\" alt=\"Open In Colab\"/></a>"
      ]
    },
    {
      "cell_type": "code",
      "execution_count": 40,
      "metadata": {
        "colab": {
          "base_uri": "https://localhost:8080/"
        },
        "id": "ctAODo6NkPku",
        "outputId": "7e03169e-967a-44fa-eacb-d3ac87faf587"
      },
      "outputs": [
        {
          "output_type": "stream",
          "name": "stdout",
          "text": [
            "2\n",
            "[9, 3, 8, 2, 6, 5, 1, 5, 6]\n"
          ]
        }
      ],
      "source": [
        "class Solution(object):\n",
        "    def hIndex(self, citations):\n",
        "        \"\"\"\n",
        "        :type citations: List[int]\n",
        "        :rtype: int\n",
        "        \"\"\"\n",
        "        if len(citations) == 1 and citations[0] == 0:\n",
        "            return 0\n",
        "        if len(citations) == 1:\n",
        "            return 1 \n",
        "        #for loop get the subset of citations,\n",
        "        #h only happens if the length of the subset >= min element of the subset\n",
        "        a = sorted(citations,reverse=True)\n",
        "        hs = []\n",
        "        for i in range(len(a)):\n",
        "            subset = a[:i+1]\n",
        "            min_value = a[i]\n",
        "            h = min(len(subset),min_value)\n",
        "            hs.append(h)\n",
        "        print(hs)\n",
        "        return max(hs)"
      ]
    }
  ]
}