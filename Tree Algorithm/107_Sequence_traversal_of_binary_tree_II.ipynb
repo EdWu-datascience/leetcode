{
  "nbformat": 4,
  "nbformat_minor": 0,
  "metadata": {
    "colab": {
      "name": "107_Sequence traversal of binary tree.ipynb",
      "provenance": [],
      "collapsed_sections": []
    },
    "kernelspec": {
      "name": "python3",
      "display_name": "Python 3"
    },
    "language_info": {
      "name": "python"
    }
  },
  "cells": [
    {
      "cell_type": "code",
      "execution_count": 7,
      "metadata": {
        "colab": {
          "base_uri": "https://localhost:8080/"
        },
        "id": "ctAODo6NkPku",
        "outputId": "89202174-f8b4-40a0-f7a1-1b7078fc966b"
      },
      "outputs": [
        {
          "output_type": "execute_result",
          "data": {
            "text/plain": [
              "[2, 3, 4, 5, 6, 6]"
            ]
          },
          "metadata": {},
          "execution_count": 7
        }
      ],
      "source": [
        "# Definition for a binary tree node.\n",
        "# class TreeNode(object):\n",
        "#     def __init__(self, val=0, left=None, right=None):\n",
        "#         self.val = val\n",
        "#         self.left = left\n",
        "#         self.right = right\n",
        "class Solution(object):\n",
        "    def levelOrderBottom(self, root):\n",
        "        \"\"\"\n",
        "        :type root: TreeNode\n",
        "        :rtype: List[List[int]]\n",
        "        \"\"\"\n",
        "        if root is None:\n",
        "            return []\n",
        "        print(root)\n",
        "        re = []\n",
        "        queue = [root]\n",
        "        while queue:\n",
        "            temp = []\n",
        "            size = len(queue)\n",
        "            for i in range(size):\n",
        "                node = queue.pop(0)\n",
        "                if node.left is not None:\n",
        "                    queue.append(node.left)\n",
        "                if node.right is not None:\n",
        "                    queue.append(node.right)\n",
        "                temp.append(node.val)\n",
        "            re.append(temp)\n",
        "        #re = re[::-1]\n",
        "        print(re)\n",
        "        return re[::-1] "
      ]
    }
  ]
}