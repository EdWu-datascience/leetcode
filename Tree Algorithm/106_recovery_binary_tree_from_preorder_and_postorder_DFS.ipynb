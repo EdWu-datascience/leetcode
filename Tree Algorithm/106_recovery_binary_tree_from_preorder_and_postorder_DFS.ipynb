{
  "nbformat": 4,
  "nbformat_minor": 0,
  "metadata": {
    "colab": {
      "name": "106_recovery_binary_tree_from preorder and postorder DFS.ipynb",
      "provenance": [],
      "collapsed_sections": []
    },
    "kernelspec": {
      "name": "python3",
      "display_name": "Python 3"
    },
    "language_info": {
      "name": "python"
    }
  },
  "cells": [
    {
      "cell_type": "code",
      "execution_count": 7,
      "metadata": {
        "colab": {
          "base_uri": "https://localhost:8080/"
        },
        "id": "ctAODo6NkPku",
        "outputId": "89202174-f8b4-40a0-f7a1-1b7078fc966b"
      },
      "outputs": [
        {
          "output_type": "execute_result",
          "data": {
            "text/plain": [
              "[2, 3, 4, 5, 6, 6]"
            ]
          },
          "metadata": {},
          "execution_count": 7
        }
      ],
      "source": [
        "# Definition for a binary tree node.\n",
        "# class TreeNode(object):\n",
        "#     def __init__(self, val=0, left=None, right=None):\n",
        "#         self.val = val\n",
        "#         self.left = left\n",
        "#         self.right = right\n",
        "class Solution(object):\n",
        "    def buildTree(self, inorder, postorder):\n",
        "        \"\"\"\n",
        "        :type inorder: List[int]\n",
        "        :type postorder: List[int]\n",
        "        :rtype: TreeNode\n",
        "        \"\"\"\n",
        "        #inorder: left-root-right\n",
        "        #postorder: left-right-root\n",
        "        #the last element in postorder is root\n",
        "        #we use recursion for this\n",
        "        if len(inorder) == 0 or len(postorder) == 0:\n",
        "            return None\n",
        "        root = TreeNode(postorder[-1])\n",
        "        index = inorder.index(root.val)\n",
        "        root.left = self.buildTree(inorder[0:index],postorder[0:index])\n",
        "        root.right = self.buildTree(inorder[index+1:],postorder[index:-1])\n",
        "        return root"
      ]
    }
  ]
}