{
  "nbformat": 4,
  "nbformat_minor": 0,
  "metadata": {
    "colab": {
      "name": "99_recovery_binary_search_tree_DFS.ipynb",
      "provenance": [],
      "collapsed_sections": []
    },
    "kernelspec": {
      "name": "python3",
      "display_name": "Python 3"
    },
    "language_info": {
      "name": "python"
    }
  },
  "cells": [
    {
      "cell_type": "code",
      "execution_count": 1,
      "metadata": {
        "colab": {
          "base_uri": "https://localhost:8080/"
        },
        "id": "ctAODo6NkPku",
        "outputId": "7adc9c90-ecb7-4809-9179-cb8530a6a073"
      },
      "outputs": [
        {
          "output_type": "execute_result",
          "data": {
            "text/plain": [
              "1"
            ]
          },
          "metadata": {},
          "execution_count": 1
        }
      ],
      "source": [
        "# Definition for a binary tree node.\n",
        "# class TreeNode(object):\n",
        "#     def __init__(self, val=0, left=None, right=None):\n",
        "#         self.val = val\n",
        "#         self.left = left\n",
        "#         self.right = right\n",
        "class Solution(object):\n",
        "    def recoverTree(self, root):\n",
        "        \"\"\"\n",
        "        :type root: TreeNode\n",
        "        :rtype: None Do not return anything, modify root in-place instead.\n",
        "        \"\"\"\n",
        "        #the value of left node < the value of root\n",
        "        #the value of right node > the value of root\n",
        "        #we use inorder traversal for this question\n",
        "        #if it's a correct binary search tree, the result of inorder traversal\n",
        "        #should be ordinal.\n",
        "        #left node- root- right node\n",
        "        #here we use depth first traversal:\n",
        "        order = []\n",
        "        def depth_first(root):\n",
        "            if root is None:\n",
        "                return \n",
        "            else:\n",
        "                depth_first(root.left)\n",
        "                order.append(root)\n",
        "                depth_first(root.right)\n",
        "        depth_first(root)\n",
        "        temp1 = []\n",
        "        temp2 = []\n",
        "        \n",
        "        for i in range(0,len(order)-1):\n",
        "            if order[i].val > order[i+1].val and len(temp1) == 0:\n",
        "                temp1 = [order[i].val,i]\n",
        "            elif order[i].val > order[i+1].val and len(temp2) == 0:\n",
        "                temp2 = [order[i+1].val,i+1]\n",
        "        if len(temp1) != 0 and len(temp2) != 0:\n",
        "            order[temp1[1]].val = temp2[0]\n",
        "            order[temp2[1]].val = temp1[0]\n",
        "        elif len(temp1) != 0 and len(temp2) == 0:\n",
        "            temp = order[temp1[1]].val\n",
        "            order[temp1[1]].val = order[temp1[1]+1].val \n",
        "            order[temp1[1]+1].val = temp \n",
        "        elif len(temp1) == 0 and len(temp2) != 0:\n",
        "            temp = order[temp2[1]].val \n",
        "            order[temp2[1]].val = order[temp2[1]-1].val \n",
        "            order[temp1[1]-1].val = temp"
      ]
    }
  ]
}