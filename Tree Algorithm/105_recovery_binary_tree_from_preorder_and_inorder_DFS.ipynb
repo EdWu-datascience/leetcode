{
  "nbformat": 4,
  "nbformat_minor": 0,
  "metadata": {
    "colab": {
      "name": "105_recovery_binary_tree_from preorder and inorder DFS.ipynb",
      "provenance": [],
      "collapsed_sections": []
    },
    "kernelspec": {
      "name": "python3",
      "display_name": "Python 3"
    },
    "language_info": {
      "name": "python"
    }
  },
  "cells": [
    {
      "cell_type": "code",
      "execution_count": 1,
      "metadata": {
        "colab": {
          "base_uri": "https://localhost:8080/"
        },
        "id": "ctAODo6NkPku",
        "outputId": "7adc9c90-ecb7-4809-9179-cb8530a6a073"
      },
      "outputs": [
        {
          "output_type": "execute_result",
          "data": {
            "text/plain": [
              "1"
            ]
          },
          "metadata": {},
          "execution_count": 1
        }
      ],
      "source": [
        "# Definition for a binary tree node.\n",
        "# class TreeNode(object):\n",
        "#     def __init__(self, val=0, left=None, right=None):\n",
        "#         self.val = val\n",
        "#         self.left = left\n",
        "#         self.right = right\n",
        "class Solution(object):\n",
        "    def buildTree(self, preorder, inorder):\n",
        "        \"\"\"\n",
        "        :type preorder: List[int]\n",
        "        :type inorder: List[int]\n",
        "        :rtype: TreeNode\n",
        "        \"\"\"\n",
        "        #the first element in preorder is root\n",
        "        #then we find the position of this element in inorder\n",
        "        #the left side value is the left node while the right side value is the right node\n",
        "        #用的是递归\n",
        "        if len(preorder) == 0 or len(inorder) == 0:\n",
        "            return None\n",
        "        root = TreeNode(preorder[0])\n",
        "        index = inorder.index(root.val)\n",
        "        root.left = self.buildTree(preorder[1:index+1],inorder[0:index])\n",
        "        root.right = self.buildTree(preorder[index+1:],inorder[index+1:])\n",
        "        return root \n",
        "# referral link：\n",
        "#https://leetcode-cn.com/problems/construct-binary-tree-from-preorder-and-inorder-traversal/solution/dong-hua-yan-shi-105-cong-qian-xu-yu-zhong-xu-bian/"
      ]
    }
  ]
}