{
  "nbformat": 4,
  "nbformat_minor": 0,
  "metadata": {
    "colab": {
      "name": "863_Tree to Graph.ipynb",
      "provenance": [],
      "collapsed_sections": []
    },
    "kernelspec": {
      "name": "python3",
      "display_name": "Python 3"
    },
    "language_info": {
      "name": "python"
    }
  },
  "cells": [
    {
      "cell_type": "code",
      "execution_count": 17,
      "metadata": {
        "colab": {
          "base_uri": "https://localhost:8080/",
          "height": 208
        },
        "id": "ctAODo6NkPku",
        "outputId": "7a8cdaa6-f518-4298-a772-2292e497bb9a"
      },
      "outputs": [
        {
          "output_type": "error",
          "ename": "KeyError",
          "evalue": "ignored",
          "traceback": [
            "\u001b[0;31m---------------------------------------------------------------------------\u001b[0m",
            "\u001b[0;31mKeyError\u001b[0m                                  Traceback (most recent call last)",
            "\u001b[0;32m<ipython-input-17-e9c5075de594>\u001b[0m in \u001b[0;36m<module>\u001b[0;34m()\u001b[0m\n\u001b[1;32m      1\u001b[0m \u001b[0ma\u001b[0m \u001b[0;34m=\u001b[0m \u001b[0;34m{\u001b[0m\u001b[0;34m}\u001b[0m\u001b[0;34m\u001b[0m\u001b[0;34m\u001b[0m\u001b[0m\n\u001b[0;32m----> 2\u001b[0;31m \u001b[0ma\u001b[0m\u001b[0;34m[\u001b[0m\u001b[0;36m1\u001b[0m\u001b[0;34m]\u001b[0m\u001b[0;34m.\u001b[0m\u001b[0madd\u001b[0m\u001b[0;34m(\u001b[0m\u001b[0;36m1\u001b[0m\u001b[0;34m)\u001b[0m\u001b[0;34m\u001b[0m\u001b[0;34m\u001b[0m\u001b[0m\n\u001b[0m\u001b[1;32m      3\u001b[0m \u001b[0ma\u001b[0m\u001b[0;34m\u001b[0m\u001b[0;34m\u001b[0m\u001b[0m\n",
            "\u001b[0;31mKeyError\u001b[0m: 1"
          ]
        }
      ],
      "source": [
        "# Definition for a binary tree node.\n",
        "# class TreeNode(object):\n",
        "#     def __init__(self, x):\n",
        "#         self.val = x\n",
        "#         self.left = None\n",
        "#         self.right = None\n",
        "\n",
        "class Solution(object):\n",
        "    def distanceK(self, root, target, k):\n",
        "        \"\"\"\n",
        "        :type root: TreeNode\n",
        "        :type target: TreeNode\n",
        "        :type k: int\n",
        "        :rtype: List[int]\n",
        "        \"\"\"\n",
        "        #tree to graph\n",
        "        #transfer tree to graph first. use dictionary to store the graph\n",
        "        #use key represent each vertice, the value is a list that represent all other\n",
        "        #vertices that connected with this vertices\n",
        "        #BFS is not good to store the root node\n",
        "        #we use DFS\n",
        "        #if node.val not in graph.keys(),graph[val] = [dfs(root.left)],\n",
        "        #graph[val].append(dfs(root.right))\n",
        "        from collections import defaultdict\n",
        "        graph = defaultdict(set)\n",
        "        def DFS(root):\n",
        "            if root is None:\n",
        "                return \n",
        "            if root.val not in graph.keys():\n",
        "                if root.left is not None:\n",
        "                    graph[root.val].add(root.left.val)\n",
        "                    graph[root.left.val].add(root.val)\n",
        "                    DFS(root.left)\n",
        "                if root.right is not None:\n",
        "                    graph[root.val].add(root.right.val)\n",
        "                    graph[root.right.val].add(root.val)\n",
        "                    DFS(root.right)\n",
        "            else:\n",
        "                if root.left is not None:\n",
        "                    graph[root.val].add(root.left.val)\n",
        "                    graph[root.left.val].add(root.val)\n",
        "                    DFS(root.left)\n",
        "                if root.right is not None:\n",
        "                    graph[root.val].add(root.right.val)\n",
        "                    graph[root.right.val].add(root.val)\n",
        "                    DFS(root.right)\n",
        "        DFS(root)\n",
        "        print(graph)\n",
        "        re = ()\n",
        "        print(target.val)\n",
        "        T = target.val\n",
        "        re = []\n",
        "        cur = [T]\n",
        "        seen = [T]\n",
        "        #we need find which key is 5 and which value contain 5\n",
        "        while k :\n",
        "            next_time = []\n",
        "            while cur:\n",
        "                temp = cur.pop(0)\n",
        "                if temp in graph.keys():\n",
        "                    for i in graph[temp]:\n",
        "                        if i not in seen:\n",
        "                            next_time.append(i)\n",
        "                            seen.append(i)\n",
        "                        \n",
        "            print(next_time)\n",
        "            cur = next_time    \n",
        "            k -= 1\n",
        "        print(cur)\n",
        "        return cur\n"
      ]
    }
  ]
}