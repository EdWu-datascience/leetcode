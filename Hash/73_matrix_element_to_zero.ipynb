{
  "nbformat": 4,
  "nbformat_minor": 0,
  "metadata": {
    "colab": {
      "name": "73_matrix element to zero.ipynb",
      "provenance": [],
      "collapsed_sections": []
    },
    "kernelspec": {
      "name": "python3",
      "display_name": "Python 3"
    },
    "language_info": {
      "name": "python"
    }
  },
  "cells": [
    {
      "cell_type": "code",
      "source": [
        "class Solution(object):\n",
        "    def setZeroes(self, matrix):\n",
        "        \"\"\"\n",
        "        :type matrix: List[List[int]]\n",
        "        :rtype: None Do not return anything, modify matrix in-place instead.\n",
        "        \"\"\"\n",
        "        #matrix = [[0,1,2,0],[3,4,5,2],[1,3,1,5]]\n",
        "        # answer: [[0,0,0,0],[0,4,5,0],[0,3,1,0]]\n",
        "        # output: [[0,0,0,0],[0,4,5,2],[0,3,1,5]]\n",
        "        seen = set()\n",
        "        for i in range(len(matrix)):\n",
        "            for j in range(len(matrix[0])):\n",
        "                if (i,j) not in seen:\n",
        "                    if matrix[i][j] == 0:\n",
        "                        # make sure i not change, j >= 0 and j <= len(matrix[0]) - 1\n",
        "                        # make sure j not change, i >= 0 and i <= len(matrix) - 1\n",
        "                        J = 0\n",
        "                        I = 0\n",
        "                        while J <= len(matrix[0])-1:\n",
        "                            if matrix[i][J] != 0:\n",
        "                                seen.add((i,J))\n",
        "                            matrix[i][J] = 0\n",
        "                            J += 1\n",
        "                        while I <= len(matrix) - 1:\n",
        "                            if matrix[I][j] != 0:\n",
        "                                seen.add((I,j))\n",
        "                            matrix[I][j] = 0                            \n",
        "                            I += 1\n",
        "                    else:\n",
        "                        continue\n",
        "                else:\n",
        "                    continue\n",
        "        for i in range(len(matrix)):\n",
        "            print(matrix[i])\n",
        "        return matrix"
      ],
      "metadata": {
        "id": "15XuFK7DRFvo"
      },
      "execution_count": 1,
      "outputs": []
    }
  ]
}