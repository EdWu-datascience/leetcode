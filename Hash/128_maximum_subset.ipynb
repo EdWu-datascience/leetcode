{
  "nbformat": 4,
  "nbformat_minor": 0,
  "metadata": {
    "colab": {
      "name": "128_maximum subset.ipynb",
      "provenance": [],
      "collapsed_sections": []
    },
    "kernelspec": {
      "name": "python3",
      "display_name": "Python 3"
    },
    "language_info": {
      "name": "python"
    }
  },
  "cells": [
    {
      "cell_type": "code",
      "source": [
        "class Solution(object):\n",
        "    def longestConsecutive(self, nums):\n",
        "        \"\"\"\n",
        "        :type nums: List[int]\n",
        "        :rtype: int\n",
        "        \"\"\"\n",
        "        if len(nums) == 0:\n",
        "            return 0\n",
        "        #nums = [100,4,200,1,3,2,201,202,203,204,205,206]\n",
        "        #nums = [0,1,1,2]\n",
        "        def quick_sort(nums):\n",
        "            length = len(nums)\n",
        "            if length <= 1:\n",
        "                return nums\n",
        "            else:\n",
        "                povit = nums.pop()\n",
        "                large_items = []\n",
        "                small_items = []\n",
        "                for i in range(len(nums)):\n",
        "                    if nums[i] >= povit:\n",
        "                        large_items.append(nums[i])\n",
        "                    else:\n",
        "                        small_items.append(nums[i])\n",
        "            return quick_sort(small_items) + [povit] + quick_sort(large_items)\n",
        "        nums = quick_sort(nums)\n",
        "        print(nums)\n",
        "        temp = nums[0]\n",
        "        re = [1]\n",
        "        for i in range(1,len(nums)):\n",
        "            if temp + 1 == nums[i]:\n",
        "                re.append(re[-1]+1)\n",
        "                temp = nums[i]\n",
        "            elif temp == nums[i]:\n",
        "                continue\n",
        "            else:\n",
        "                re.append(1)\n",
        "                temp = nums[i]\n",
        "        print(re)\n",
        "        return max(re)"
      ],
      "metadata": {
        "id": "15XuFK7DRFvo"
      },
      "execution_count": 1,
      "outputs": []
    }
  ]
}