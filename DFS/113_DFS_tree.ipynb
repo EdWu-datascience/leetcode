{
  "nbformat": 4,
  "nbformat_minor": 0,
  "metadata": {
    "colab": {
      "name": "113_DFS_tree.ipynb",
      "provenance": [],
      "collapsed_sections": []
    },
    "kernelspec": {
      "name": "python3",
      "display_name": "Python 3"
    },
    "language_info": {
      "name": "python"
    }
  },
  "cells": [
    {
      "cell_type": "code",
      "execution_count": 1,
      "metadata": {
        "id": "ctAODo6NkPku",
        "colab": {
          "base_uri": "https://localhost:8080/"
        },
        "outputId": "e2f56f89-bfdd-4889-f2d4-dc1bc3408d7a"
      },
      "outputs": [
        {
          "output_type": "execute_result",
          "data": {
            "text/plain": [
              "[1, 2]"
            ]
          },
          "metadata": {},
          "execution_count": 1
        }
      ],
      "source": [
        "# Definition for a binary tree node.\n",
        "# class TreeNode(object):\n",
        "#     def __init__(self, val=0, left=None, right=None):\n",
        "#         self.val = val\n",
        "#         self.left = left\n",
        "#         self.right = right\n",
        "class Solution(object):\n",
        "    def pathSum(self, root, targetSum):\n",
        "        \"\"\"\n",
        "        :type root: TreeNode\n",
        "        :type targetSum: int\n",
        "        :rtype: List[List[int]]\n",
        "        \"\"\"\n",
        "        re = []\n",
        "        temp = []\n",
        "        # if sum of temp == target, then add it to re. then return\n",
        "        # \n",
        "        def dfs(root,targetSum):\n",
        "            if root is None:\n",
        "                return \n",
        "            val = root.val \n",
        "            temp.append(val)\n",
        "            if root.left is None and root.right is None:\n",
        "                if sum(temp) == targetSum:\n",
        "                    #temp[] and temp[:] is different!!!!\n",
        "                    re.append(temp[:])\n",
        "            dfs(root.left,targetSum)\n",
        "            dfs(root.right,targetSum)\n",
        "        \n",
        "            temp.pop()\n",
        "\n",
        "        dfs(root,targetSum)\n",
        "        print(re)\n",
        "        return re "
      ]
    }
  ]
}